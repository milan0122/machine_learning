{
 "cells": [
  {
   "cell_type": "markdown",
   "id": "b24557fe",
   "metadata": {},
   "source": [
    "## T test\n",
    "A t-test is a type of inferential which is used to determine if there\n",
    "is significant difference between means of two groups which may be related in certain features\n",
    "\n",
    "#### T-test has two types:  \n",
    "                          . one sample t-test\n",
    "                          . two sample t-test"
   ]
  },
  {
   "cell_type": "markdown",
   "id": "24e4692b",
   "metadata": {},
   "source": [
    "### One-Sample T-test with python\n",
    "The test will tell us whether means of the sample and population is different <br>\n",
    "<font size = \"5\">           $ t = \\frac{\\bar{x} - \\mu}{\\frac{s_{\\bar{x}}}{\\sqrt{n}}}$\n",
    "           and $s_{\\bar{x}} = \\frac{s}{\\sqrt{n}}$</font><br>\n",
    "where: \n",
    "- $\\bar{x}$ is the sample mean,\n",
    "- $ \\mu$ is the population mean,\n",
    "- \\( s \\) is the sample standard deviation, and\n",
    "- \\( n \\) is the sample size.\n",
    "- $s_{\\bar{x}}$ is the estimated standard error of the mean\n",
    "\n"
   ]
  },
  {
   "cell_type": "code",
   "execution_count": 4,
   "id": "e554f193",
   "metadata": {},
   "outputs": [
    {
     "data": {
      "text/plain": [
       "20"
      ]
     },
     "execution_count": 4,
     "metadata": {},
     "output_type": "execute_result"
    }
   ],
   "source": [
    "ages = [10,20,35,34,2,3,47,36,30,25,44,48,19,70,28,26,22,12,45,67]\n"
   ]
  },
  {
   "cell_type": "code",
   "execution_count": 6,
   "id": "d0bfd0d5",
   "metadata": {},
   "outputs": [
    {
     "name": "stdout",
     "output_type": "stream",
     "text": [
      "31.15\n"
     ]
    }
   ],
   "source": [
    "import numpy as np\n",
    "ages_mean = np.mean(ages)\n",
    "print(ages_mean)"
   ]
  },
  {
   "cell_type": "markdown",
   "id": "cc046276",
   "metadata": {},
   "source": [
    "<font size = '3'> we are checking whether the sample mean is different from poppulation mean using t-test with help of p_value</font>"
   ]
  },
  {
   "cell_type": "code",
   "execution_count": 10,
   "id": "a083d16b",
   "metadata": {},
   "outputs": [],
   "source": [
    "#let's take sample\n",
    "sample_size = 10\n",
    "age_sample = np.random.choice(ages,sample_size)"
   ]
  },
  {
   "cell_type": "code",
   "execution_count": 11,
   "id": "5dca0f10",
   "metadata": {},
   "outputs": [
    {
     "data": {
      "text/plain": [
       "array([47, 28, 47, 67, 12, 45, 70, 47, 26, 35])"
      ]
     },
     "execution_count": 11,
     "metadata": {},
     "output_type": "execute_result"
    }
   ],
   "source": [
    "age_sample"
   ]
  },
  {
   "cell_type": "code",
   "execution_count": 12,
   "id": "3f1bf9d1",
   "metadata": {},
   "outputs": [],
   "source": [
    "from scipy.stats import ttest_1samp"
   ]
  },
  {
   "cell_type": "code",
   "execution_count": 13,
   "id": "c33854ce",
   "metadata": {},
   "outputs": [],
   "source": [
    "ttest,p_value = ttest_1samp(age_sample,ages_mean)"
   ]
  },
  {
   "cell_type": "code",
   "execution_count": 15,
   "id": "27715ada",
   "metadata": {},
   "outputs": [
    {
     "name": "stdout",
     "output_type": "stream",
     "text": [
      "no difference between population mean and sample mean\n"
     ]
    }
   ],
   "source": [
    "if p_value <=0.05:#alpha value is 0.05(5%) - level of significance\n",
    "    print(\"difference \")\n",
    "else:\n",
    "    print(\"no difference between population mean and sample mean\")"
   ]
  },
  {
   "cell_type": "markdown",
   "id": "d1fb82bc",
   "metadata": {},
   "source": [
    "let's do some more example\n",
    "conside the age of students in a college and in class A"
   ]
  },
  {
   "cell_type": "code",
   "execution_count": 17,
   "id": "683cd87b",
   "metadata": {},
   "outputs": [],
   "source": [
    "import scipy.stats as stats\n",
    "import math\n",
    "np.random.seed(6)\n",
    "school_ages = stats.poisson.rvs(loc=18, mu = 35, size = 1500)\n",
    "classA_ages = stats.poisson.rvs(loc=18,mu=30,size=60)"
   ]
  },
  {
   "cell_type": "code",
   "execution_count": 21,
   "id": "d8838463",
   "metadata": {},
   "outputs": [
    {
     "data": {
      "text/plain": [
       "46.9"
      ]
     },
     "execution_count": 21,
     "metadata": {},
     "output_type": "execute_result"
    }
   ],
   "source": [
    "classA_ages.mean()"
   ]
  },
  {
   "cell_type": "code",
   "execution_count": 23,
   "id": "88bc87de",
   "metadata": {},
   "outputs": [],
   "source": [
    "t_value,p_value=stats.ttest_1samp(classA_ages,school_ages.mean())"
   ]
  },
  {
   "cell_type": "code",
   "execution_count": 25,
   "id": "841ef78d",
   "metadata": {},
   "outputs": [
    {
     "name": "stdout",
     "output_type": "stream",
     "text": [
      "Rejecting null hypothesis \n"
     ]
    }
   ],
   "source": [
    "if p_value <=0.05:#alpha value is 0.05(5%) - level of significance\n",
    "    print(\"Rejecting null hypothesis \")\n",
    "else:\n",
    "    print(\"no difference between population mean and sample mean\")"
   ]
  },
  {
   "cell_type": "markdown",
   "id": "ac1b62b7",
   "metadata": {},
   "source": [
    "## Two-sample T-test with python"
   ]
  },
  {
   "cell_type": "markdown",
   "id": "eaca8ddb",
   "metadata": {},
   "source": [
    "The independent sample t test or 2-sample t-test compares the mean of two independent groups to determine whether \n",
    "there is statistical evidence that the associated population means are significantly different. The independent samples t Test is parametric test.(independent t-test) <br> <br>\n",
    "<font size='5'>$t = \\frac{x_{1}-x_{2}}{\\sqrt{s^2(\\frac{1}{n_{1}} + \\frac{1}{n_{2}})}}$</font><br>\n",
    "<font size='5'> $s^2 = \\frac{\\sum\\limits_{i=1}^{n_1}(x_i - \\bar{x_1})^2 + \\sum\\limits_{j=1}^{n_1}(x_j - \\bar{x_2})^2}{n_1 + n_2 -2}$\n",
    "</font>"
   ]
  },
  {
   "cell_type": "code",
   "execution_count": 37,
   "id": "dc9881ab",
   "metadata": {},
   "outputs": [
    {
     "data": {
      "text/plain": [
       "50.63333333333333"
      ]
     },
     "execution_count": 37,
     "metadata": {},
     "output_type": "execute_result"
    }
   ],
   "source": [
    "np.random.seed(12)\n",
    "classB_ages = stats.poisson.rvs(loc=18,mu=33,size=60)\n",
    "classB_ages.mean()"
   ]
  },
  {
   "cell_type": "code",
   "execution_count": 38,
   "id": "0775d148",
   "metadata": {},
   "outputs": [],
   "source": [
    "ttestB,p_value=stats.ttest_ind(classA_ages,classB_ages,equal_var=False)"
   ]
  },
  {
   "cell_type": "code",
   "execution_count": 41,
   "id": "99c9e8f0",
   "metadata": {},
   "outputs": [
    {
     "name": "stdout",
     "output_type": "stream",
     "text": [
      "Rejecting null hypothesis \n"
     ]
    }
   ],
   "source": [
    "if p_value <=0.05:#alpha value is 0.05(5%) - level of significance\n",
    "    print(\"Rejecting null hypothesis \")\n",
    "else:\n",
    "    print(\"no difference\")"
   ]
  },
  {
   "cell_type": "markdown",
   "id": "d427fb03",
   "metadata": {},
   "source": [
    "## Paired T-test with python\n",
    "when you want to check how different samples from the group are, you can go for paired t-tes"
   ]
  },
  {
   "cell_type": "code",
   "execution_count": 47,
   "id": "8ba96323",
   "metadata": {},
   "outputs": [],
   "source": [
    "weight1 = [25,30,28,35,28,34,36,56,45,30,18,22,21,26,20]\n",
    "weight2 = weight1 + stats.norm.rvs(scale=5,loc=-1.26,size=15)"
   ]
  },
  {
   "cell_type": "code",
   "execution_count": 52,
   "id": "31e65e6b",
   "metadata": {},
   "outputs": [
    {
     "name": "stdout",
     "output_type": "stream",
     "text": [
      "[25, 30, 28, 35, 28, 34, 36, 56, 45, 30, 18, 22, 21, 26, 20]\n",
      "[30.56926457 34.90022437 28.99444617 30.53295091 19.85201983 37.56873174\n",
      " 28.3199827  48.3671395  51.35420881 36.04941216 16.92827982 19.509014\n",
      " 16.41851213 26.49667769 16.31984284]\n"
     ]
    }
   ],
   "source": [
    "print(weight1)\n",
    "print(weight2)\n"
   ]
  },
  {
   "cell_type": "code",
   "execution_count": 54,
   "id": "b45b77b5",
   "metadata": {},
   "outputs": [],
   "source": [
    "import pandas as pd\n",
    "weight_df = pd.DataFrame({\"weight_10\":np.array(weight1),\n",
    "                          \"weight_20\":np.array(weight2),\n",
    "                          \"weight_change\":np.array(weight2)-np.array(weight1)\n",
    "    \n",
    "})"
   ]
  },
  {
   "cell_type": "code",
   "execution_count": 55,
   "id": "9bbb1d79",
   "metadata": {},
   "outputs": [
    {
     "data": {
      "text/html": [
       "<div>\n",
       "<style scoped>\n",
       "    .dataframe tbody tr th:only-of-type {\n",
       "        vertical-align: middle;\n",
       "    }\n",
       "\n",
       "    .dataframe tbody tr th {\n",
       "        vertical-align: top;\n",
       "    }\n",
       "\n",
       "    .dataframe thead th {\n",
       "        text-align: right;\n",
       "    }\n",
       "</style>\n",
       "<table border=\"1\" class=\"dataframe\">\n",
       "  <thead>\n",
       "    <tr style=\"text-align: right;\">\n",
       "      <th></th>\n",
       "      <th>weight_10</th>\n",
       "      <th>weight_20</th>\n",
       "      <th>weight_change</th>\n",
       "    </tr>\n",
       "  </thead>\n",
       "  <tbody>\n",
       "    <tr>\n",
       "      <th>0</th>\n",
       "      <td>25</td>\n",
       "      <td>30.569265</td>\n",
       "      <td>5.569265</td>\n",
       "    </tr>\n",
       "    <tr>\n",
       "      <th>1</th>\n",
       "      <td>30</td>\n",
       "      <td>34.900224</td>\n",
       "      <td>4.900224</td>\n",
       "    </tr>\n",
       "    <tr>\n",
       "      <th>2</th>\n",
       "      <td>28</td>\n",
       "      <td>28.994446</td>\n",
       "      <td>0.994446</td>\n",
       "    </tr>\n",
       "    <tr>\n",
       "      <th>3</th>\n",
       "      <td>35</td>\n",
       "      <td>30.532951</td>\n",
       "      <td>-4.467049</td>\n",
       "    </tr>\n",
       "    <tr>\n",
       "      <th>4</th>\n",
       "      <td>28</td>\n",
       "      <td>19.852020</td>\n",
       "      <td>-8.147980</td>\n",
       "    </tr>\n",
       "    <tr>\n",
       "      <th>5</th>\n",
       "      <td>34</td>\n",
       "      <td>37.568732</td>\n",
       "      <td>3.568732</td>\n",
       "    </tr>\n",
       "    <tr>\n",
       "      <th>6</th>\n",
       "      <td>36</td>\n",
       "      <td>28.319983</td>\n",
       "      <td>-7.680017</td>\n",
       "    </tr>\n",
       "    <tr>\n",
       "      <th>7</th>\n",
       "      <td>56</td>\n",
       "      <td>48.367139</td>\n",
       "      <td>-7.632861</td>\n",
       "    </tr>\n",
       "    <tr>\n",
       "      <th>8</th>\n",
       "      <td>45</td>\n",
       "      <td>51.354209</td>\n",
       "      <td>6.354209</td>\n",
       "    </tr>\n",
       "    <tr>\n",
       "      <th>9</th>\n",
       "      <td>30</td>\n",
       "      <td>36.049412</td>\n",
       "      <td>6.049412</td>\n",
       "    </tr>\n",
       "    <tr>\n",
       "      <th>10</th>\n",
       "      <td>18</td>\n",
       "      <td>16.928280</td>\n",
       "      <td>-1.071720</td>\n",
       "    </tr>\n",
       "    <tr>\n",
       "      <th>11</th>\n",
       "      <td>22</td>\n",
       "      <td>19.509014</td>\n",
       "      <td>-2.490986</td>\n",
       "    </tr>\n",
       "    <tr>\n",
       "      <th>12</th>\n",
       "      <td>21</td>\n",
       "      <td>16.418512</td>\n",
       "      <td>-4.581488</td>\n",
       "    </tr>\n",
       "    <tr>\n",
       "      <th>13</th>\n",
       "      <td>26</td>\n",
       "      <td>26.496678</td>\n",
       "      <td>0.496678</td>\n",
       "    </tr>\n",
       "    <tr>\n",
       "      <th>14</th>\n",
       "      <td>20</td>\n",
       "      <td>16.319843</td>\n",
       "      <td>-3.680157</td>\n",
       "    </tr>\n",
       "  </tbody>\n",
       "</table>\n",
       "</div>"
      ],
      "text/plain": [
       "    weight_10  weight_20  weight_change\n",
       "0          25  30.569265       5.569265\n",
       "1          30  34.900224       4.900224\n",
       "2          28  28.994446       0.994446\n",
       "3          35  30.532951      -4.467049\n",
       "4          28  19.852020      -8.147980\n",
       "5          34  37.568732       3.568732\n",
       "6          36  28.319983      -7.680017\n",
       "7          56  48.367139      -7.632861\n",
       "8          45  51.354209       6.354209\n",
       "9          30  36.049412       6.049412\n",
       "10         18  16.928280      -1.071720\n",
       "11         22  19.509014      -2.490986\n",
       "12         21  16.418512      -4.581488\n",
       "13         26  26.496678       0.496678\n",
       "14         20  16.319843      -3.680157"
      ]
     },
     "execution_count": 55,
     "metadata": {},
     "output_type": "execute_result"
    }
   ],
   "source": [
    "weight_df"
   ]
  },
  {
   "cell_type": "code",
   "execution_count": 56,
   "id": "912938b9",
   "metadata": {},
   "outputs": [],
   "source": [
    "_,p_value=stats.ttest_rel(weight1,weight2)"
   ]
  },
  {
   "cell_type": "code",
   "execution_count": 57,
   "id": "57f7ed20",
   "metadata": {},
   "outputs": [
    {
     "name": "stdout",
     "output_type": "stream",
     "text": [
      "no difference\n"
     ]
    }
   ],
   "source": [
    "if p_value <=0.05:#alpha value is 0.05(5%) - level of significance\n",
    "    print(\"Rejecting null hypothesis \")\n",
    "else:\n",
    "    print(\"no difference\")"
   ]
  },
  {
   "cell_type": "markdown",
   "id": "cf418b2a",
   "metadata": {},
   "source": [
    "### correlation"
   ]
  },
  {
   "cell_type": "code",
   "execution_count": 69,
   "id": "ef61f8cf",
   "metadata": {},
   "outputs": [],
   "source": [
    "import seaborn as sns\n",
    "df =sns.load_dataset('iris')"
   ]
  },
  {
   "cell_type": "code",
   "execution_count": 70,
   "id": "0a0193d8",
   "metadata": {},
   "outputs": [
    {
     "data": {
      "text/plain": [
       "(150, 5)"
      ]
     },
     "execution_count": 70,
     "metadata": {},
     "output_type": "execute_result"
    }
   ],
   "source": [
    "df.shape#checking the row and column of dataset"
   ]
  },
  {
   "cell_type": "code",
   "execution_count": 71,
   "id": "d2fe061a",
   "metadata": {},
   "outputs": [
    {
     "data": {
      "text/html": [
       "<div>\n",
       "<style scoped>\n",
       "    .dataframe tbody tr th:only-of-type {\n",
       "        vertical-align: middle;\n",
       "    }\n",
       "\n",
       "    .dataframe tbody tr th {\n",
       "        vertical-align: top;\n",
       "    }\n",
       "\n",
       "    .dataframe thead th {\n",
       "        text-align: right;\n",
       "    }\n",
       "</style>\n",
       "<table border=\"1\" class=\"dataframe\">\n",
       "  <thead>\n",
       "    <tr style=\"text-align: right;\">\n",
       "      <th></th>\n",
       "      <th>sepal_length</th>\n",
       "      <th>sepal_width</th>\n",
       "      <th>petal_length</th>\n",
       "      <th>petal_width</th>\n",
       "    </tr>\n",
       "  </thead>\n",
       "  <tbody>\n",
       "    <tr>\n",
       "      <th>sepal_length</th>\n",
       "      <td>1.000000</td>\n",
       "      <td>-0.117570</td>\n",
       "      <td>0.871754</td>\n",
       "      <td>0.817941</td>\n",
       "    </tr>\n",
       "    <tr>\n",
       "      <th>sepal_width</th>\n",
       "      <td>-0.117570</td>\n",
       "      <td>1.000000</td>\n",
       "      <td>-0.428440</td>\n",
       "      <td>-0.366126</td>\n",
       "    </tr>\n",
       "    <tr>\n",
       "      <th>petal_length</th>\n",
       "      <td>0.871754</td>\n",
       "      <td>-0.428440</td>\n",
       "      <td>1.000000</td>\n",
       "      <td>0.962865</td>\n",
       "    </tr>\n",
       "    <tr>\n",
       "      <th>petal_width</th>\n",
       "      <td>0.817941</td>\n",
       "      <td>-0.366126</td>\n",
       "      <td>0.962865</td>\n",
       "      <td>1.000000</td>\n",
       "    </tr>\n",
       "  </tbody>\n",
       "</table>\n",
       "</div>"
      ],
      "text/plain": [
       "              sepal_length  sepal_width  petal_length  petal_width\n",
       "sepal_length      1.000000    -0.117570      0.871754     0.817941\n",
       "sepal_width      -0.117570     1.000000     -0.428440    -0.366126\n",
       "petal_length      0.871754    -0.428440      1.000000     0.962865\n",
       "petal_width       0.817941    -0.366126      0.962865     1.000000"
      ]
     },
     "execution_count": 71,
     "metadata": {},
     "output_type": "execute_result"
    }
   ],
   "source": [
    "df.corr()"
   ]
  },
  {
   "cell_type": "markdown",
   "id": "4cb5d9aa",
   "metadata": {},
   "source": [
    "In the above  table we can see that the correlation between each features. Though we can get conculsion whether the two features have linear relationship or not\n",
    "let's the above table represent in graph using seaborn"
   ]
  },
  {
   "cell_type": "code",
   "execution_count": 72,
   "id": "bbc11e70",
   "metadata": {},
   "outputs": [
    {
     "data": {
      "text/plain": [
       "<seaborn.axisgrid.PairGrid at 0x7fb3d0714070>"
      ]
     },
     "execution_count": 72,
     "metadata": {},
     "output_type": "execute_result"
    }
   ],
   "source": [
    "sns.pairplot(df)"
   ]
  },
  {
   "cell_type": "code",
   "execution_count": null,
   "id": "28c7b151",
   "metadata": {},
   "outputs": [],
   "source": []
  }
 ],
 "metadata": {
  "kernelspec": {
   "display_name": "Python 3 (ipykernel)",
   "language": "python",
   "name": "python3"
  },
  "language_info": {
   "codemirror_mode": {
    "name": "ipython",
    "version": 3
   },
   "file_extension": ".py",
   "mimetype": "text/x-python",
   "name": "python",
   "nbconvert_exporter": "python",
   "pygments_lexer": "ipython3",
   "version": "3.9.13"
  }
 },
 "nbformat": 4,
 "nbformat_minor": 5
}
